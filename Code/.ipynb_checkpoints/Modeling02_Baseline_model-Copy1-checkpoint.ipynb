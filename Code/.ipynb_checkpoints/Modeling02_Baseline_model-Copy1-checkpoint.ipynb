{
 "cells": [
  {
   "cell_type": "markdown",
   "metadata": {},
   "source": [
    "# Scalable modelling approach [Baseline Model]\n",
    "<b>Topics Already Covered</b>\n",
    "* Split Data: Train and Test \n",
    "* Stratified sampling\n",
    "\n",
    "<b>Topics Covered in this notebook</b>\n",
    "* Training Random Forest model for classification\n",
    "* Save model to disk using pickle (and load model anytime later)\n",
    "* Model validation and performance metrics\n",
    "\n",
    "\n",
    "Author: Pulkit Gupta\n",
    "\n",
    "Date: 24-May-2018"
   ]
  },
  {
   "cell_type": "markdown",
   "metadata": {},
   "source": [
    "### Importing Packages\n",
    "\n",
    "Package import section allows us to include packages to be used within the notebook\n"
   ]
  },
  {
   "cell_type": "code",
   "execution_count": 292,
   "metadata": {},
   "outputs": [],
   "source": [
    "import pandas as pd\n",
    "import numpy as np\n",
    "from sklearn.model_selection import train_test_split\n",
    "from sklearn.metrics import accuracy_score\n",
    "import sklearn.metrics as mt\n",
    "from sklearn import metrics\n",
    "from sklearn.ensemble import RandomForestClassifier, GradientBoostingClassifier\n",
    "from sklearn.metrics import accuracy_score\n",
    "from sklearn.metrics import confusion_matrix\n",
    "from math import sqrt\n",
    "import pandas as pd\n",
    "import numpy as np\n",
    "import sklearn\n",
    "import pickle\n",
    "import matplotlib.pyplot as plt\n",
    "from sklearn.model_selection import train_test_split\n",
    "from sklearn.calibration import CalibratedClassifierCV, calibration_curve\n",
    "from sklearn.metrics import roc_auc_score, confusion_matrix, roc_curve, auc, mean_squared_error, log_loss\n",
    "from sklearn.metrics import (brier_score_loss, precision_score, recall_score,\n",
    "                             f1_score)\n",
    "from sklearn.metrics import classification_report\n",
    "import sklearn.feature_selection\n",
    "import sklearn.pipeline\n",
    "import sklearn.grid_search\n",
    "from sklearn.feature_selection import (f_classif,mutual_info_classif)\n",
    "from sklearn.externals import joblib\n",
    "from enum import Enum\n",
    "from collections import defaultdict\n",
    "from sklearn.preprocessing import LabelEncoder\n",
    "\n",
    "from sklearn.metrics import precision_recall_fscore_support as score\n",
    "from sklearn.linear_model import LogisticRegression\n",
    "from sklearn.naive_bayes import GaussianNB\n",
    "from sklearn.svm import SVC, LinearSVC"
   ]
  },
  {
   "cell_type": "markdown",
   "metadata": {},
   "source": [
    "### Reading Data"
   ]
  },
  {
   "cell_type": "code",
   "execution_count": 293,
   "metadata": {},
   "outputs": [],
   "source": [
    "data=pd.read_csv(\"../data/churn.csv\")"
   ]
  },
  {
   "cell_type": "markdown",
   "metadata": {},
   "source": [
    "### Sample data"
   ]
  },
  {
   "cell_type": "code",
   "execution_count": 294,
   "metadata": {},
   "outputs": [
    {
     "data": {
      "text/html": [
       "<div>\n",
       "<style scoped>\n",
       "    .dataframe tbody tr th:only-of-type {\n",
       "        vertical-align: middle;\n",
       "    }\n",
       "\n",
       "    .dataframe tbody tr th {\n",
       "        vertical-align: top;\n",
       "    }\n",
       "\n",
       "    .dataframe thead th {\n",
       "        text-align: right;\n",
       "    }\n",
       "</style>\n",
       "<table border=\"1\" class=\"dataframe\">\n",
       "  <thead>\n",
       "    <tr style=\"text-align: right;\">\n",
       "      <th></th>\n",
       "      <th>State</th>\n",
       "      <th>Account Length</th>\n",
       "      <th>Area Code</th>\n",
       "      <th>Phone</th>\n",
       "      <th>Int'l Plan</th>\n",
       "      <th>VMail Plan</th>\n",
       "      <th>VMail Message</th>\n",
       "      <th>Day Mins</th>\n",
       "      <th>Day Calls</th>\n",
       "      <th>Day Charge</th>\n",
       "      <th>...</th>\n",
       "      <th>Eve Calls</th>\n",
       "      <th>Eve Charge</th>\n",
       "      <th>Night Mins</th>\n",
       "      <th>Night Calls</th>\n",
       "      <th>Night Charge</th>\n",
       "      <th>Intl Mins</th>\n",
       "      <th>Intl Calls</th>\n",
       "      <th>Intl Charge</th>\n",
       "      <th>CustServ Calls</th>\n",
       "      <th>Churn?</th>\n",
       "    </tr>\n",
       "  </thead>\n",
       "  <tbody>\n",
       "    <tr>\n",
       "      <th>0</th>\n",
       "      <td>KS</td>\n",
       "      <td>128</td>\n",
       "      <td>415</td>\n",
       "      <td>382-4657</td>\n",
       "      <td>no</td>\n",
       "      <td>yes</td>\n",
       "      <td>25</td>\n",
       "      <td>265.1</td>\n",
       "      <td>110</td>\n",
       "      <td>45.07</td>\n",
       "      <td>...</td>\n",
       "      <td>99</td>\n",
       "      <td>16.78</td>\n",
       "      <td>244.7</td>\n",
       "      <td>91</td>\n",
       "      <td>11.01</td>\n",
       "      <td>10.0</td>\n",
       "      <td>3</td>\n",
       "      <td>2.70</td>\n",
       "      <td>1</td>\n",
       "      <td>False.</td>\n",
       "    </tr>\n",
       "    <tr>\n",
       "      <th>1</th>\n",
       "      <td>OH</td>\n",
       "      <td>107</td>\n",
       "      <td>415</td>\n",
       "      <td>371-7191</td>\n",
       "      <td>no</td>\n",
       "      <td>yes</td>\n",
       "      <td>26</td>\n",
       "      <td>161.6</td>\n",
       "      <td>123</td>\n",
       "      <td>27.47</td>\n",
       "      <td>...</td>\n",
       "      <td>103</td>\n",
       "      <td>16.62</td>\n",
       "      <td>254.4</td>\n",
       "      <td>103</td>\n",
       "      <td>11.45</td>\n",
       "      <td>13.7</td>\n",
       "      <td>3</td>\n",
       "      <td>3.70</td>\n",
       "      <td>1</td>\n",
       "      <td>False.</td>\n",
       "    </tr>\n",
       "    <tr>\n",
       "      <th>2</th>\n",
       "      <td>NJ</td>\n",
       "      <td>137</td>\n",
       "      <td>415</td>\n",
       "      <td>358-1921</td>\n",
       "      <td>no</td>\n",
       "      <td>no</td>\n",
       "      <td>0</td>\n",
       "      <td>243.4</td>\n",
       "      <td>114</td>\n",
       "      <td>41.38</td>\n",
       "      <td>...</td>\n",
       "      <td>110</td>\n",
       "      <td>10.30</td>\n",
       "      <td>162.6</td>\n",
       "      <td>104</td>\n",
       "      <td>7.32</td>\n",
       "      <td>12.2</td>\n",
       "      <td>5</td>\n",
       "      <td>3.29</td>\n",
       "      <td>0</td>\n",
       "      <td>False.</td>\n",
       "    </tr>\n",
       "    <tr>\n",
       "      <th>3</th>\n",
       "      <td>OH</td>\n",
       "      <td>84</td>\n",
       "      <td>408</td>\n",
       "      <td>375-9999</td>\n",
       "      <td>yes</td>\n",
       "      <td>no</td>\n",
       "      <td>0</td>\n",
       "      <td>299.4</td>\n",
       "      <td>71</td>\n",
       "      <td>50.90</td>\n",
       "      <td>...</td>\n",
       "      <td>88</td>\n",
       "      <td>5.26</td>\n",
       "      <td>196.9</td>\n",
       "      <td>89</td>\n",
       "      <td>8.86</td>\n",
       "      <td>6.6</td>\n",
       "      <td>7</td>\n",
       "      <td>1.78</td>\n",
       "      <td>2</td>\n",
       "      <td>False.</td>\n",
       "    </tr>\n",
       "    <tr>\n",
       "      <th>4</th>\n",
       "      <td>OK</td>\n",
       "      <td>75</td>\n",
       "      <td>415</td>\n",
       "      <td>330-6626</td>\n",
       "      <td>yes</td>\n",
       "      <td>no</td>\n",
       "      <td>0</td>\n",
       "      <td>166.7</td>\n",
       "      <td>113</td>\n",
       "      <td>28.34</td>\n",
       "      <td>...</td>\n",
       "      <td>122</td>\n",
       "      <td>12.61</td>\n",
       "      <td>186.9</td>\n",
       "      <td>121</td>\n",
       "      <td>8.41</td>\n",
       "      <td>10.1</td>\n",
       "      <td>3</td>\n",
       "      <td>2.73</td>\n",
       "      <td>3</td>\n",
       "      <td>False.</td>\n",
       "    </tr>\n",
       "  </tbody>\n",
       "</table>\n",
       "<p>5 rows × 21 columns</p>\n",
       "</div>"
      ],
      "text/plain": [
       "  State  Account Length  Area Code     Phone Int'l Plan VMail Plan  \\\n",
       "0    KS             128        415  382-4657         no        yes   \n",
       "1    OH             107        415  371-7191         no        yes   \n",
       "2    NJ             137        415  358-1921         no         no   \n",
       "3    OH              84        408  375-9999        yes         no   \n",
       "4    OK              75        415  330-6626        yes         no   \n",
       "\n",
       "   VMail Message  Day Mins  Day Calls  Day Charge   ...    Eve Calls  \\\n",
       "0             25     265.1        110       45.07   ...           99   \n",
       "1             26     161.6        123       27.47   ...          103   \n",
       "2              0     243.4        114       41.38   ...          110   \n",
       "3              0     299.4         71       50.90   ...           88   \n",
       "4              0     166.7        113       28.34   ...          122   \n",
       "\n",
       "   Eve Charge  Night Mins  Night Calls  Night Charge  Intl Mins  Intl Calls  \\\n",
       "0       16.78       244.7           91         11.01       10.0           3   \n",
       "1       16.62       254.4          103         11.45       13.7           3   \n",
       "2       10.30       162.6          104          7.32       12.2           5   \n",
       "3        5.26       196.9           89          8.86        6.6           7   \n",
       "4       12.61       186.9          121          8.41       10.1           3   \n",
       "\n",
       "   Intl Charge  CustServ Calls  Churn?  \n",
       "0         2.70               1  False.  \n",
       "1         3.70               1  False.  \n",
       "2         3.29               0  False.  \n",
       "3         1.78               2  False.  \n",
       "4         2.73               3  False.  \n",
       "\n",
       "[5 rows x 21 columns]"
      ]
     },
     "execution_count": 294,
     "metadata": {},
     "output_type": "execute_result"
    }
   ],
   "source": [
    "data.head(5)"
   ]
  },
  {
   "cell_type": "markdown",
   "metadata": {},
   "source": [
    "### Define Target Feature and Id features"
   ]
  },
  {
   "cell_type": "code",
   "execution_count": 295,
   "metadata": {},
   "outputs": [],
   "source": [
    "target_variable = [\"Churn?\"]\n",
    "id_variable = [\"Phone\"]"
   ]
  },
  {
   "cell_type": "markdown",
   "metadata": {},
   "source": [
    "### Data Preperation\n",
    "<b>Define Following: </b>\n",
    "* independent features (X)\n",
    "* target feautres (y)\n",
    "* id features (ids)\n"
   ]
  },
  {
   "cell_type": "code",
   "execution_count": 296,
   "metadata": {},
   "outputs": [],
   "source": [
    "X=data.drop(target_variable + id_variable,axis=1)\n",
    "y=data[target_variable]\n",
    "ids= data[id_variable]"
   ]
  },
  {
   "cell_type": "code",
   "execution_count": 297,
   "metadata": {},
   "outputs": [
    {
     "data": {
      "text/plain": [
       "False"
      ]
     },
     "execution_count": 297,
     "metadata": {},
     "output_type": "execute_result"
    }
   ],
   "source": [
    "# Basic Check of null values\n",
    "data.isnull().values.any()"
   ]
  },
  {
   "cell_type": "markdown",
   "metadata": {},
   "source": [
    "### Convert categorical variable into dummy/indicator variables"
   ]
  },
  {
   "cell_type": "code",
   "execution_count": 298,
   "metadata": {},
   "outputs": [],
   "source": [
    "X_with_dummy_features = pd.get_dummies(X,drop_first=True)\n",
    "y_with_dummy_features = pd.get_dummies(y,drop_first=True)"
   ]
  },
  {
   "cell_type": "markdown",
   "metadata": {},
   "source": [
    "### Validation Sets\n",
    "\n",
    "A better way to test a model is to use a hold-out set which doesn't enter the training. This operation can be performed using scikit-learn's train/test split utility:"
   ]
  },
  {
   "cell_type": "markdown",
   "metadata": {},
   "source": [
    "* Example of split without stratified sampling"
   ]
  },
  {
   "cell_type": "code",
   "execution_count": 299,
   "metadata": {},
   "outputs": [
    {
     "name": "stdout",
     "output_type": "stream",
     "text": [
      "No. of True Cases in training data set for 256\n",
      "No. of True Cases in testing data set for 227\n",
      "Ratio of True Cases in training data set:  0.15\n",
      "Ratio of True Cases in testing data set:  0.14\n"
     ]
    }
   ],
   "source": [
    "xtrain, xtest, ytrain, ytest , idtrain, idtest = \\\n",
    "creating_test_train_without_stratified_samples(y_with_dummy_features,\\\n",
    "                                    ids,\\\n",
    "                                    X_with_dummy_features,\\\n",
    "                                    1000,\\\n",
    "                                     0.5 )"
   ]
  },
  {
   "cell_type": "markdown",
   "metadata": {},
   "source": [
    "* Example of split with Stratified Sampling <p><p>\n",
    "\n",
    "<cite>\n",
    "<b>Stratified sampling</b> is a probability sampling technique; to divide the entire population into different subgroups or strata, then randomly selects the final subjects proportionally from the different strata.</cite>"
   ]
  },
  {
   "cell_type": "code",
   "execution_count": 300,
   "metadata": {},
   "outputs": [
    {
     "name": "stdout",
     "output_type": "stream",
     "text": [
      "No. of True Cases in training data set for 241\n",
      "No. of True Cases in testing data set for 242\n",
      "Ratio of True Cases in training data set:  0.14\n",
      "Ratio of True Cases in testing data set:  0.15\n"
     ]
    }
   ],
   "source": [
    "xtrain, xtest, ytrain, ytest , idtrain, idtest = \\\n",
    "                                                creating_test_train_with_stratified_samples(y_with_dummy_features,\\\n",
    "                                                                                    ids,\\\n",
    "                                                                                    X_with_dummy_features,\\\n",
    "                                                                                    1000,\\\n",
    "                                                                                     0.5 )"
   ]
  },
  {
   "cell_type": "markdown",
   "metadata": {},
   "source": [
    "### Random Forest\n",
    "\n",
    "Random Forest is a flexible, easy to use machine learning algorithm that produces, a great result most of the time. It is also one of the most used algorithms, because it’s simplicity and the fact that it can be used for both classification and regression tasks. (We will explore classification using RF)"
   ]
  },
  {
   "cell_type": "code",
   "execution_count": 301,
   "metadata": {},
   "outputs": [],
   "source": [
    "# Create random forest classifier model to predict chrun\n",
    "model_name = 'Random Forest'\n",
    "clf = RandomForestClassifier()\n",
    "trained_model_rf = clf.fit(xtrain, ytrain.values.ravel())"
   ]
  },
  {
   "cell_type": "markdown",
   "metadata": {},
   "source": [
    "### Save model to disk using pickle and load model anytime later"
   ]
  },
  {
   "cell_type": "code",
   "execution_count": 302,
   "metadata": {},
   "outputs": [],
   "source": [
    "# save the model to disk\n",
    "filename = '../models/baseline_randomforest_model.sav'\n",
    "pickle.dump(trained_model_rf, open(filename, 'wb'))\n",
    " \n",
    "# some time later...\n",
    " \n",
    "# load the model from disk\n",
    "trained_model_rf = pickle.load(open(filename, 'rb'))"
   ]
  },
  {
   "cell_type": "markdown",
   "metadata": {},
   "source": [
    "### Model Performance Validation"
   ]
  },
  {
   "cell_type": "code",
   "execution_count": 303,
   "metadata": {
    "scrolled": false
   },
   "outputs": [
    {
     "name": "stdout",
     "output_type": "stream",
     "text": [
      "Trained model ::  RandomForestClassifier(bootstrap=True, class_weight=None, criterion='gini',\n",
      "            max_depth=None, max_features='auto', max_leaf_nodes=None,\n",
      "            min_impurity_decrease=0.0, min_impurity_split=None,\n",
      "            min_samples_leaf=1, min_samples_split=2,\n",
      "            min_weight_fraction_leaf=0.0, n_estimators=10, n_jobs=1,\n",
      "            oob_score=False, random_state=None, verbose=0,\n",
      "            warm_start=False)\n",
      "\n",
      "\n",
      "Model ROC-AUC score for validation sample: 0.890\n",
      "\n",
      "\n",
      "Train Accuracy ::  0.9975990396158463\n",
      "\n",
      "\n",
      "Test Accuracy ::  0.9142171565686863\n",
      "\n",
      "\n",
      "Log Loss Without for validation sample: 0.613782606341735\n",
      "\n",
      "\n",
      " Confusion matrix \n",
      " [[1417    8]\n",
      " [ 135  107]]\n",
      "\n",
      "\n",
      " Classification report (weighted average across classes) ::\n",
      "              precision    recall  f1-score   support\n",
      "\n",
      "          0       0.91      0.99      0.95      1425\n",
      "          1       0.93      0.44      0.60       242\n",
      "\n",
      "avg / total       0.92      0.91      0.90      1667\n",
      "\n",
      "Lift plot for validation Sample\n"
     ]
    },
    {
     "data": {
      "image/png": "[encoded data removed]",
      "text/plain": [
       "<matplotlib.figure.Figure at 0x1500c0d5a58>"
      ]
     },
     "metadata": {},
     "output_type": "display_data"
    },
    {
     "name": "stdout",
     "output_type": "stream",
     "text": [
      "   NumCases  NumCorrectPredictions  RunningCompleted  PercentCorrect  AvgCase  \\\n",
      "0       167                    141                 0       58.264463     24.2   \n",
      "1       167                     49               167       78.512397     24.2   \n",
      "2       167                     16               334       85.123967     24.2   \n",
      "3       167                      5               501       87.190083     24.2   \n",
      "4       167                      8               668       90.495868     24.2   \n",
      "5       167                      3               835       91.735537     24.2   \n",
      "6       167                      2              1002       92.561983     24.2   \n",
      "7       166                      4              1169       94.214876     24.2   \n",
      "8       166                      6              1335       96.694215     24.2   \n",
      "9       166                      8              1501      100.000000     24.2   \n",
      "\n",
      "   CumulativeAvgCase  LiftLine      Lift  \n",
      "0               24.2         1  5.826446  \n",
      "1               48.4         1  2.024793  \n",
      "2               72.6         1  0.661157  \n",
      "3               96.8         1  0.206612  \n",
      "4              121.0         1  0.330579  \n",
      "5              145.2         1  0.123967  \n",
      "6              169.4         1  0.082645  \n",
      "7              193.6         1  0.165289  \n",
      "8              217.8         1  0.247934  \n",
      "9              242.0         1  0.330579  \n",
      "ROC curve for the validaton Sample\n"
     ]
    },
    {
     "data": {
      "image/png": "[encoded data removed]",
      "text/plain": [
       "<matplotlib.figure.Figure at 0x1500d187668>"
      ]
     },
     "metadata": {},
     "output_type": "display_data"
    },
    {
     "data": {
      "text/plain": [
       "<matplotlib.figure.Figure at 0x1500d123128>"
      ]
     },
     "metadata": {},
     "output_type": "display_data"
    },
    {
     "data": {
      "text/plain": [
       "<matplotlib.figure.Figure at 0x1500c07d438>"
      ]
     },
     "metadata": {},
     "output_type": "display_data"
    }
   ],
   "source": [
    "#Calculate key performance metrics for model validation\n",
    "eval_result_RF = evaluate_model(model_name, trained_model_rf, xtrain, xtest, ytrain, ytest, verbose = True)"
   ]
  },
  {
   "cell_type": "code",
   "execution_count": 304,
   "metadata": {},
   "outputs": [],
   "source": [
    "#Append model results to a comparison dataframe\n",
    "eval_results_compare = pd.DataFrame()\n",
    "eval_results_compare = eval_results_compare.append(eval_result_RF)"
   ]
  },
  {
   "cell_type": "code",
   "execution_count": 305,
   "metadata": {},
   "outputs": [
    {
     "data": {
      "text/html": [
       "<div>\n",
       "<style scoped>\n",
       "    .dataframe tbody tr th:only-of-type {\n",
       "        vertical-align: middle;\n",
       "    }\n",
       "\n",
       "    .dataframe tbody tr th {\n",
       "        vertical-align: top;\n",
       "    }\n",
       "\n",
       "    .dataframe thead th {\n",
       "        text-align: right;\n",
       "    }\n",
       "</style>\n",
       "<table border=\"1\" class=\"dataframe\">\n",
       "  <thead>\n",
       "    <tr style=\"text-align: right;\">\n",
       "      <th></th>\n",
       "      <th>Model</th>\n",
       "      <th>AUC</th>\n",
       "      <th>Test Accuracy</th>\n",
       "      <th>Train Accuracy</th>\n",
       "      <th>Precision</th>\n",
       "      <th>Recall</th>\n",
       "      <th>F1-score</th>\n",
       "      <th>Log loss value</th>\n",
       "    </tr>\n",
       "  </thead>\n",
       "  <tbody>\n",
       "    <tr>\n",
       "      <th>0</th>\n",
       "      <td>Random Forest</td>\n",
       "      <td>0.889535</td>\n",
       "      <td>0.914217</td>\n",
       "      <td>0.997599</td>\n",
       "      <td>0.915544</td>\n",
       "      <td>0.914217</td>\n",
       "      <td>0.900789</td>\n",
       "      <td>0.613783</td>\n",
       "    </tr>\n",
       "  </tbody>\n",
       "</table>\n",
       "</div>"
      ],
      "text/plain": [
       "           Model       AUC  Test Accuracy  Train Accuracy  Precision  \\\n",
       "0  Random Forest  0.889535       0.914217        0.997599   0.915544   \n",
       "\n",
       "     Recall  F1-score  Log loss value  \n",
       "0  0.914217  0.900789        0.613783  "
      ]
     },
     "execution_count": 305,
     "metadata": {},
     "output_type": "execute_result"
    }
   ],
   "source": [
    "eval_results_compare"
   ]
  },
  {
   "cell_type": "code",
   "execution_count": 306,
   "metadata": {},
   "outputs": [],
   "source": [
    "feature_importance = pd.DataFrame()\n",
    "for name, importance in zip(xtrain.columns, trained_model.feature_importances_):\n",
    "    feature_importance=feature_importance.append(pd.DataFrame({\"FeatureName\":[name],\"importance\":[importance]}))"
   ]
  },
  {
   "cell_type": "code",
   "execution_count": 307,
   "metadata": {},
   "outputs": [
    {
     "name": "stdout",
     "output_type": "stream",
     "text": [
      "Top 15 - Feature Importance\n"
     ]
    },
    {
     "data": {
      "text/html": [
       "<div>\n",
       "<style scoped>\n",
       "    .dataframe tbody tr th:only-of-type {\n",
       "        vertical-align: middle;\n",
       "    }\n",
       "\n",
       "    .dataframe tbody tr th {\n",
       "        vertical-align: top;\n",
       "    }\n",
       "\n",
       "    .dataframe thead th {\n",
       "        text-align: right;\n",
       "    }\n",
       "</style>\n",
       "<table border=\"1\" class=\"dataframe\">\n",
       "  <thead>\n",
       "    <tr style=\"text-align: right;\">\n",
       "      <th></th>\n",
       "      <th>FeatureName</th>\n",
       "      <th>importance</th>\n",
       "    </tr>\n",
       "  </thead>\n",
       "  <tbody>\n",
       "    <tr>\n",
       "      <th>0</th>\n",
       "      <td>CustServ Calls</td>\n",
       "      <td>0.130772</td>\n",
       "    </tr>\n",
       "    <tr>\n",
       "      <th>0</th>\n",
       "      <td>Day Mins</td>\n",
       "      <td>0.124187</td>\n",
       "    </tr>\n",
       "    <tr>\n",
       "      <th>0</th>\n",
       "      <td>Day Charge</td>\n",
       "      <td>0.109303</td>\n",
       "    </tr>\n",
       "    <tr>\n",
       "      <th>0</th>\n",
       "      <td>Eve Mins</td>\n",
       "      <td>0.059119</td>\n",
       "    </tr>\n",
       "    <tr>\n",
       "      <th>0</th>\n",
       "      <td>Eve Charge</td>\n",
       "      <td>0.051902</td>\n",
       "    </tr>\n",
       "    <tr>\n",
       "      <th>0</th>\n",
       "      <td>Int'l Plan_yes</td>\n",
       "      <td>0.048719</td>\n",
       "    </tr>\n",
       "    <tr>\n",
       "      <th>0</th>\n",
       "      <td>Intl Calls</td>\n",
       "      <td>0.042549</td>\n",
       "    </tr>\n",
       "    <tr>\n",
       "      <th>0</th>\n",
       "      <td>Night Mins</td>\n",
       "      <td>0.041273</td>\n",
       "    </tr>\n",
       "    <tr>\n",
       "      <th>0</th>\n",
       "      <td>Night Charge</td>\n",
       "      <td>0.040056</td>\n",
       "    </tr>\n",
       "    <tr>\n",
       "      <th>0</th>\n",
       "      <td>Intl Mins</td>\n",
       "      <td>0.036722</td>\n",
       "    </tr>\n",
       "    <tr>\n",
       "      <th>0</th>\n",
       "      <td>Intl Charge</td>\n",
       "      <td>0.036476</td>\n",
       "    </tr>\n",
       "    <tr>\n",
       "      <th>0</th>\n",
       "      <td>Account Length</td>\n",
       "      <td>0.034871</td>\n",
       "    </tr>\n",
       "    <tr>\n",
       "      <th>0</th>\n",
       "      <td>Eve Calls</td>\n",
       "      <td>0.034664</td>\n",
       "    </tr>\n",
       "    <tr>\n",
       "      <th>0</th>\n",
       "      <td>Day Calls</td>\n",
       "      <td>0.032844</td>\n",
       "    </tr>\n",
       "    <tr>\n",
       "      <th>0</th>\n",
       "      <td>Night Calls</td>\n",
       "      <td>0.032703</td>\n",
       "    </tr>\n",
       "  </tbody>\n",
       "</table>\n",
       "</div>"
      ],
      "text/plain": [
       "      FeatureName  importance\n",
       "0  CustServ Calls    0.130772\n",
       "0        Day Mins    0.124187\n",
       "0      Day Charge    0.109303\n",
       "0        Eve Mins    0.059119\n",
       "0      Eve Charge    0.051902\n",
       "0  Int'l Plan_yes    0.048719\n",
       "0      Intl Calls    0.042549\n",
       "0      Night Mins    0.041273\n",
       "0    Night Charge    0.040056\n",
       "0       Intl Mins    0.036722\n",
       "0     Intl Charge    0.036476\n",
       "0  Account Length    0.034871\n",
       "0       Eve Calls    0.034664\n",
       "0       Day Calls    0.032844\n",
       "0     Night Calls    0.032703"
      ]
     },
     "execution_count": 307,
     "metadata": {},
     "output_type": "execute_result"
    }
   ],
   "source": [
    "print(\"Top 15 - Feature Importance\")\n",
    "feature_importance.sort_values(ascending=False,by=\"importance\").head(15)"
   ]
  },
  {
   "cell_type": "markdown",
   "metadata": {},
   "source": [
    "### Logistic Regression\n",
    "\n",
    "Logistic regression is an easy to interpret and computationally inexpensive classification algorithm. It uses the natural logarithm function to find the relationship between the variables and uses test data to find the coefficients."
   ]
  },
  {
   "cell_type": "code",
   "execution_count": 308,
   "metadata": {},
   "outputs": [],
   "source": [
    "model_name = 'Logistic Regression'\n",
    "logreg = LogisticRegression()\n",
    "trained_model_lr = logreg.fit(xtrain, ytrain.values.ravel())"
   ]
  },
  {
   "cell_type": "markdown",
   "metadata": {},
   "source": [
    "### Model Performance Validation"
   ]
  },
  {
   "cell_type": "code",
   "execution_count": 309,
   "metadata": {},
   "outputs": [
    {
     "name": "stdout",
     "output_type": "stream",
     "text": [
      "Lift plot for validation Sample\n"
     ]
    },
    {
     "data": {
      "image/png": "[encoded data removed]",
      "text/plain": [
       "<matplotlib.figure.Figure at 0x1500e495a90>"
      ]
     },
     "metadata": {},
     "output_type": "display_data"
    },
    {
     "name": "stdout",
     "output_type": "stream",
     "text": [
      "   NumCases  NumCorrectPredictions  RunningCompleted  PercentCorrect  AvgCase  \\\n",
      "0       167                     84                 0       34.710744     24.2   \n",
      "1       167                     53               167       56.611570     24.2   \n",
      "2       167                     33               334       70.247934     24.2   \n",
      "3       167                     18               501       77.685950     24.2   \n",
      "4       167                     18               668       85.123967     24.2   \n",
      "5       167                     11               835       89.669421     24.2   \n",
      "6       167                      9              1002       93.388430     24.2   \n",
      "7       166                      6              1169       95.867769     24.2   \n",
      "8       166                      8              1335       99.173554     24.2   \n",
      "9       166                      2              1501      100.000000     24.2   \n",
      "\n",
      "   CumulativeAvgCase  LiftLine      Lift  \n",
      "0               24.2         1  3.471074  \n",
      "1               48.4         1  2.190083  \n",
      "2               72.6         1  1.363636  \n",
      "3               96.8         1  0.743802  \n",
      "4              121.0         1  0.743802  \n",
      "5              145.2         1  0.454545  \n",
      "6              169.4         1  0.371901  \n",
      "7              193.6         1  0.247934  \n",
      "8              217.8         1  0.330579  \n",
      "9              242.0         1  0.082645  \n",
      "ROC curve for the validaton Sample\n"
     ]
    },
    {
     "data": {
      "image/png": "[encoded data removed]",
      "text/plain": [
       "<matplotlib.figure.Figure at 0x1500d1232e8>"
      ]
     },
     "metadata": {},
     "output_type": "display_data"
    },
    {
     "data": {
      "text/plain": [
       "<matplotlib.figure.Figure at 0x1500d35dd30>"
      ]
     },
     "metadata": {},
     "output_type": "display_data"
    },
    {
     "data": {
      "text/plain": [
       "<matplotlib.figure.Figure at 0x1500be746a0>"
      ]
     },
     "metadata": {},
     "output_type": "display_data"
    }
   ],
   "source": [
    "#Calculate key performance metrics for model validation\n",
    "eval_result_LR = evaluate_model(model_name, trained_model_lr, xtrain, xtest, ytrain, ytest, verbose = False)\n",
    "\n",
    "#Append key performance metrics to comparison dataframe\n",
    "eval_results_compare = eval_results_compare.append(eval_result_LR)\n",
    "eval_results_compare.reset_index(drop=True,inplace=True)"
   ]
  },
  {
   "cell_type": "code",
   "execution_count": 310,
   "metadata": {},
   "outputs": [
    {
     "data": {
      "text/html": [
       "<div>\n",
       "<style scoped>\n",
       "    .dataframe tbody tr th:only-of-type {\n",
       "        vertical-align: middle;\n",
       "    }\n",
       "\n",
       "    .dataframe tbody tr th {\n",
       "        vertical-align: top;\n",
       "    }\n",
       "\n",
       "    .dataframe thead th {\n",
       "        text-align: right;\n",
       "    }\n",
       "</style>\n",
       "<table border=\"1\" class=\"dataframe\">\n",
       "  <thead>\n",
       "    <tr style=\"text-align: right;\">\n",
       "      <th></th>\n",
       "      <th>Model</th>\n",
       "      <th>AUC</th>\n",
       "      <th>Test Accuracy</th>\n",
       "      <th>Train Accuracy</th>\n",
       "      <th>Precision</th>\n",
       "      <th>Recall</th>\n",
       "      <th>F1-score</th>\n",
       "      <th>Log loss value</th>\n",
       "    </tr>\n",
       "  </thead>\n",
       "  <tbody>\n",
       "    <tr>\n",
       "      <th>0</th>\n",
       "      <td>Random Forest</td>\n",
       "      <td>0.889535</td>\n",
       "      <td>0.914217</td>\n",
       "      <td>0.997599</td>\n",
       "      <td>0.915544</td>\n",
       "      <td>0.914217</td>\n",
       "      <td>0.900789</td>\n",
       "      <td>0.613783</td>\n",
       "    </tr>\n",
       "    <tr>\n",
       "      <th>1</th>\n",
       "      <td>Logistic Regression</td>\n",
       "      <td>0.800742</td>\n",
       "      <td>0.858428</td>\n",
       "      <td>0.864946</td>\n",
       "      <td>0.828022</td>\n",
       "      <td>0.858428</td>\n",
       "      <td>0.831302</td>\n",
       "      <td>0.336283</td>\n",
       "    </tr>\n",
       "  </tbody>\n",
       "</table>\n",
       "</div>"
      ],
      "text/plain": [
       "                 Model       AUC  Test Accuracy  Train Accuracy  Precision  \\\n",
       "0        Random Forest  0.889535       0.914217        0.997599   0.915544   \n",
       "1  Logistic Regression  0.800742       0.858428        0.864946   0.828022   \n",
       "\n",
       "     Recall  F1-score  Log loss value  \n",
       "0  0.914217  0.900789        0.613783  \n",
       "1  0.858428  0.831302        0.336283  "
      ]
     },
     "execution_count": 310,
     "metadata": {},
     "output_type": "execute_result"
    }
   ],
   "source": [
    "eval_results_compare"
   ]
  },
  {
   "cell_type": "markdown",
   "metadata": {},
   "source": [
    "### Gaussian Naive Bayes\n",
    "This algorithm is called naive Bayes or idiot Bayes because the calculation of the probabilities for each hypothesis are simplified to make their calculation tractable. It requires an assumption to be true that the features do not interact (no correlation), which is a very strong assumption and is unlikely in real data."
   ]
  },
  {
   "cell_type": "code",
   "execution_count": 311,
   "metadata": {},
   "outputs": [],
   "source": [
    "model_name = 'Gaussian Naive Bayes'\n",
    "gnb=GaussianNB()\n",
    "trained_model_gnb = gnb.fit(xtrain,ytrain.values.ravel())"
   ]
  },
  {
   "cell_type": "markdown",
   "metadata": {},
   "source": [
    "### Model Performance Validation"
   ]
  },
  {
   "cell_type": "code",
   "execution_count": 312,
   "metadata": {},
   "outputs": [
    {
     "name": "stdout",
     "output_type": "stream",
     "text": [
      "Lift plot for validation Sample\n"
     ]
    },
    {
     "data": {
      "image/png": "[encoded data removed]",
      "text/plain": [
       "<matplotlib.figure.Figure at 0x1500e57ca20>"
      ]
     },
     "metadata": {},
     "output_type": "display_data"
    },
    {
     "name": "stdout",
     "output_type": "stream",
     "text": [
      "   NumCases  NumCorrectPredictions  RunningCompleted  PercentCorrect  AvgCase  \\\n",
      "0       167                     52                 0       21.487603     24.2   \n",
      "1       167                     29               167       33.471074     24.2   \n",
      "2       167                     30               334       45.867769     24.2   \n",
      "3       167                     21               501       54.545455     24.2   \n",
      "4       167                     20               668       62.809917     24.2   \n",
      "5       167                     20               835       71.074380     24.2   \n",
      "6       167                     18              1002       78.512397     24.2   \n",
      "7       166                     11              1169       83.057851     24.2   \n",
      "8       166                     24              1335       92.975207     24.2   \n",
      "9       166                     17              1501      100.000000     24.2   \n",
      "\n",
      "   CumulativeAvgCase  LiftLine      Lift  \n",
      "0               24.2         1  2.148760  \n",
      "1               48.4         1  1.198347  \n",
      "2               72.6         1  1.239669  \n",
      "3               96.8         1  0.867769  \n",
      "4              121.0         1  0.826446  \n",
      "5              145.2         1  0.826446  \n",
      "6              169.4         1  0.743802  \n",
      "7              193.6         1  0.454545  \n",
      "8              217.8         1  0.991736  \n",
      "9              242.0         1  0.702479  \n",
      "ROC curve for the validaton Sample\n"
     ]
    },
    {
     "data": {
      "image/png": "[encoded data removed]",
      "text/plain": [
       "<matplotlib.figure.Figure at 0x1500d32b7b8>"
      ]
     },
     "metadata": {},
     "output_type": "display_data"
    },
    {
     "data": {
      "text/plain": [
       "<matplotlib.figure.Figure at 0x1500bf0ae80>"
      ]
     },
     "metadata": {},
     "output_type": "display_data"
    },
    {
     "data": {
      "text/plain": [
       "<matplotlib.figure.Figure at 0x1500bf0a4a8>"
      ]
     },
     "metadata": {},
     "output_type": "display_data"
    }
   ],
   "source": [
    "#Calculate key performance metrics for model validation\n",
    "eval_result_GNB = evaluate_model(model_name, trained_model_gnb, xtrain, xtest, ytrain, ytest, verbose = False)\n",
    "\n",
    "#Append key performance metrics to comparison dataframe\n",
    "eval_results_compare = eval_results_compare.append(eval_result_GNB)\n",
    "eval_results_compare.reset_index(drop=True,inplace=True)"
   ]
  },
  {
   "cell_type": "code",
   "execution_count": 313,
   "metadata": {
    "scrolled": true
   },
   "outputs": [
    {
     "data": {
      "text/html": [
       "<div>\n",
       "<style scoped>\n",
       "    .dataframe tbody tr th:only-of-type {\n",
       "        vertical-align: middle;\n",
       "    }\n",
       "\n",
       "    .dataframe tbody tr th {\n",
       "        vertical-align: top;\n",
       "    }\n",
       "\n",
       "    .dataframe thead th {\n",
       "        text-align: right;\n",
       "    }\n",
       "</style>\n",
       "<table border=\"1\" class=\"dataframe\">\n",
       "  <thead>\n",
       "    <tr style=\"text-align: right;\">\n",
       "      <th></th>\n",
       "      <th>Model</th>\n",
       "      <th>AUC</th>\n",
       "      <th>Test Accuracy</th>\n",
       "      <th>Train Accuracy</th>\n",
       "      <th>Precision</th>\n",
       "      <th>Recall</th>\n",
       "      <th>F1-score</th>\n",
       "      <th>Log loss value</th>\n",
       "    </tr>\n",
       "  </thead>\n",
       "  <tbody>\n",
       "    <tr>\n",
       "      <th>0</th>\n",
       "      <td>Random Forest</td>\n",
       "      <td>0.889535</td>\n",
       "      <td>0.914217</td>\n",
       "      <td>0.997599</td>\n",
       "      <td>0.915544</td>\n",
       "      <td>0.914217</td>\n",
       "      <td>0.900789</td>\n",
       "      <td>0.613783</td>\n",
       "    </tr>\n",
       "    <tr>\n",
       "      <th>1</th>\n",
       "      <td>Logistic Regression</td>\n",
       "      <td>0.800742</td>\n",
       "      <td>0.858428</td>\n",
       "      <td>0.864946</td>\n",
       "      <td>0.828022</td>\n",
       "      <td>0.858428</td>\n",
       "      <td>0.831302</td>\n",
       "      <td>0.336283</td>\n",
       "    </tr>\n",
       "    <tr>\n",
       "      <th>2</th>\n",
       "      <td>Gaussian Naive Bayes</td>\n",
       "      <td>0.611035</td>\n",
       "      <td>0.490102</td>\n",
       "      <td>0.522809</td>\n",
       "      <td>0.790075</td>\n",
       "      <td>0.490102</td>\n",
       "      <td>0.558100</td>\n",
       "      <td>6.067440</td>\n",
       "    </tr>\n",
       "  </tbody>\n",
       "</table>\n",
       "</div>"
      ],
      "text/plain": [
       "                  Model       AUC  Test Accuracy  Train Accuracy  Precision  \\\n",
       "0         Random Forest  0.889535       0.914217        0.997599   0.915544   \n",
       "1   Logistic Regression  0.800742       0.858428        0.864946   0.828022   \n",
       "2  Gaussian Naive Bayes  0.611035       0.490102        0.522809   0.790075   \n",
       "\n",
       "     Recall  F1-score  Log loss value  \n",
       "0  0.914217  0.900789        0.613783  \n",
       "1  0.858428  0.831302        0.336283  \n",
       "2  0.490102  0.558100        6.067440  "
      ]
     },
     "execution_count": 313,
     "metadata": {},
     "output_type": "execute_result"
    }
   ],
   "source": [
    "eval_results_compare"
   ]
  },
  {
   "cell_type": "markdown",
   "metadata": {},
   "source": [
    "### Support Vector Machines\n",
    "A Support Vector Machine (SVM) is a discriminative classifier formally defined by a separating hyperplane. In other words, given labeled training data (supervised learning), the algorithm outputs an optimal hyperplane which categorizes new examples."
   ]
  },
  {
   "cell_type": "code",
   "execution_count": 314,
   "metadata": {},
   "outputs": [],
   "source": [
    "model_name = 'Support Vector Machines'\n",
    "svc = SVC(probability=True)\n",
    "trained_model_svc = svc.fit(xtrain,ytrain.values.ravel())"
   ]
  },
  {
   "cell_type": "markdown",
   "metadata": {},
   "source": [
    "### Model Performance Validation"
   ]
  },
  {
   "cell_type": "code",
   "execution_count": 315,
   "metadata": {},
   "outputs": [
    {
     "data": {
      "text/plain": [
       "0    1425\n",
       "1     242\n",
       "Name: Churn?_True., dtype: int64"
      ]
     },
     "execution_count": 315,
     "metadata": {},
     "output_type": "execute_result"
    }
   ],
   "source": [
    "ytest.columns\n",
    "ytest['Churn?_True.'].value_counts()"
   ]
  },
  {
   "cell_type": "code",
   "execution_count": 316,
   "metadata": {},
   "outputs": [],
   "source": [
    "pred_test = trained_model_svc.predict(xtest)"
   ]
  },
  {
   "cell_type": "code",
   "execution_count": 317,
   "metadata": {},
   "outputs": [
    {
     "name": "stdout",
     "output_type": "stream",
     "text": [
      "Lift plot for validation Sample\n"
     ]
    },
    {
     "name": "stderr",
     "output_type": "stream",
     "text": [
      "C:\\Users\\save advait\\Documents\\Anaconda\\lib\\site-packages\\sklearn\\metrics\\classification.py:1135: UndefinedMetricWarning: Precision and F-score are ill-defined and being set to 0.0 in labels with no predicted samples.\n",
      "  'precision', 'predicted', average, warn_for)\n"
     ]
    },
    {
     "data": {
      "image/png": "[encoded data removed]",
      "text/plain": [
       "<matplotlib.figure.Figure at 0x1500e6c3470>"
      ]
     },
     "metadata": {},
     "output_type": "display_data"
    },
    {
     "name": "stdout",
     "output_type": "stream",
     "text": [
      "   NumCases  NumCorrectPredictions  RunningCompleted  PercentCorrect  AvgCase  \\\n",
      "0       167                     17                 0        7.024793     24.2   \n",
      "1       167                     18               167       14.462810     24.2   \n",
      "2       167                     13               334       19.834711     24.2   \n",
      "3       167                     14               501       25.619835     24.2   \n",
      "4       167                     17               668       32.644628     24.2   \n",
      "5       167                     24               835       42.561983     24.2   \n",
      "6       167                     27              1002       53.719008     24.2   \n",
      "7       166                     34              1169       67.768595     24.2   \n",
      "8       166                     28              1335       79.338843     24.2   \n",
      "9       166                     50              1501      100.000000     24.2   \n",
      "\n",
      "   CumulativeAvgCase  LiftLine      Lift  \n",
      "0               24.2         1  0.702479  \n",
      "1               48.4         1  0.743802  \n",
      "2               72.6         1  0.537190  \n",
      "3               96.8         1  0.578512  \n",
      "4              121.0         1  0.702479  \n",
      "5              145.2         1  0.991736  \n",
      "6              169.4         1  1.115702  \n",
      "7              193.6         1  1.404959  \n",
      "8              217.8         1  1.157025  \n",
      "9              242.0         1  2.066116  \n",
      "ROC curve for the validaton Sample\n"
     ]
    },
    {
     "data": {
      "image/png": "[encoded data removed]",
      "text/plain": [
       "<matplotlib.figure.Figure at 0x1500e6b24e0>"
      ]
     },
     "metadata": {},
     "output_type": "display_data"
    },
    {
     "data": {
      "text/plain": [
       "<matplotlib.figure.Figure at 0x1500c034860>"
      ]
     },
     "metadata": {},
     "output_type": "display_data"
    },
    {
     "data": {
      "text/plain": [
       "<matplotlib.figure.Figure at 0x1500bf10240>"
      ]
     },
     "metadata": {},
     "output_type": "display_data"
    }
   ],
   "source": [
    "#Calculate key performance metrics for model validation\n",
    "eval_result_SVC = evaluate_model(model_name, trained_model_svc, xtrain, xtest, ytrain, ytest, verbose = False)\n",
    "\n",
    "#Append key performance metrics to comparison dataframe\n",
    "eval_results_compare = eval_results_compare.append(eval_result_SVC)\n",
    "eval_results_compare.reset_index(drop=True,inplace=True)"
   ]
  },
  {
   "cell_type": "code",
   "execution_count": 318,
   "metadata": {
    "scrolled": false
   },
   "outputs": [
    {
     "data": {
      "text/html": [
       "<div>\n",
       "<style scoped>\n",
       "    .dataframe tbody tr th:only-of-type {\n",
       "        vertical-align: middle;\n",
       "    }\n",
       "\n",
       "    .dataframe tbody tr th {\n",
       "        vertical-align: top;\n",
       "    }\n",
       "\n",
       "    .dataframe thead th {\n",
       "        text-align: right;\n",
       "    }\n",
       "</style>\n",
       "<table border=\"1\" class=\"dataframe\">\n",
       "  <thead>\n",
       "    <tr style=\"text-align: right;\">\n",
       "      <th></th>\n",
       "      <th>Model</th>\n",
       "      <th>AUC</th>\n",
       "      <th>Test Accuracy</th>\n",
       "      <th>Train Accuracy</th>\n",
       "      <th>Precision</th>\n",
       "      <th>Recall</th>\n",
       "      <th>F1-score</th>\n",
       "      <th>Log loss value</th>\n",
       "    </tr>\n",
       "  </thead>\n",
       "  <tbody>\n",
       "    <tr>\n",
       "      <th>0</th>\n",
       "      <td>Random Forest</td>\n",
       "      <td>0.889535</td>\n",
       "      <td>0.914217</td>\n",
       "      <td>0.997599</td>\n",
       "      <td>0.915544</td>\n",
       "      <td>0.914217</td>\n",
       "      <td>0.900789</td>\n",
       "      <td>0.613783</td>\n",
       "    </tr>\n",
       "    <tr>\n",
       "      <th>1</th>\n",
       "      <td>Logistic Regression</td>\n",
       "      <td>0.800742</td>\n",
       "      <td>0.858428</td>\n",
       "      <td>0.864946</td>\n",
       "      <td>0.828022</td>\n",
       "      <td>0.858428</td>\n",
       "      <td>0.831302</td>\n",
       "      <td>0.336283</td>\n",
       "    </tr>\n",
       "    <tr>\n",
       "      <th>2</th>\n",
       "      <td>Gaussian Naive Bayes</td>\n",
       "      <td>0.611035</td>\n",
       "      <td>0.490102</td>\n",
       "      <td>0.522809</td>\n",
       "      <td>0.790075</td>\n",
       "      <td>0.490102</td>\n",
       "      <td>0.558100</td>\n",
       "      <td>6.067440</td>\n",
       "    </tr>\n",
       "    <tr>\n",
       "      <th>3</th>\n",
       "      <td>Support Vector Machines</td>\n",
       "      <td>0.371012</td>\n",
       "      <td>0.854829</td>\n",
       "      <td>1.000000</td>\n",
       "      <td>0.730733</td>\n",
       "      <td>0.854829</td>\n",
       "      <td>0.787925</td>\n",
       "      <td>0.414207</td>\n",
       "    </tr>\n",
       "  </tbody>\n",
       "</table>\n",
       "</div>"
      ],
      "text/plain": [
       "                     Model       AUC  Test Accuracy  Train Accuracy  \\\n",
       "0            Random Forest  0.889535       0.914217        0.997599   \n",
       "1      Logistic Regression  0.800742       0.858428        0.864946   \n",
       "2     Gaussian Naive Bayes  0.611035       0.490102        0.522809   \n",
       "3  Support Vector Machines  0.371012       0.854829        1.000000   \n",
       "\n",
       "   Precision    Recall  F1-score  Log loss value  \n",
       "0   0.915544  0.914217  0.900789        0.613783  \n",
       "1   0.828022  0.858428  0.831302        0.336283  \n",
       "2   0.790075  0.490102  0.558100        6.067440  \n",
       "3   0.730733  0.854829  0.787925        0.414207  "
      ]
     },
     "execution_count": 318,
     "metadata": {},
     "output_type": "execute_result"
    }
   ],
   "source": [
    "eval_results_compare"
   ]
  },
  {
   "cell_type": "markdown",
   "metadata": {},
   "source": [
    "### Gradient Boosting Classifier\n",
    "Gradient boosting is a machine learning technique for regression and classification problems, which produces a prediction model in the form of an ensemble of weak prediction models, typically decision trees. "
   ]
  },
  {
   "cell_type": "code",
   "execution_count": 319,
   "metadata": {},
   "outputs": [],
   "source": [
    "model_name = 'Gradient Boosting Classifier'\n",
    "grb = GradientBoostingClassifier()\n",
    "trained_model_grb = grb.fit(xtrain,ytrain.values.ravel())"
   ]
  },
  {
   "cell_type": "markdown",
   "metadata": {},
   "source": [
    "### Model Performance Validation"
   ]
  },
  {
   "cell_type": "code",
   "execution_count": 320,
   "metadata": {},
   "outputs": [
    {
     "name": "stdout",
     "output_type": "stream",
     "text": [
      "Lift plot for validation Sample\n"
     ]
    },
    {
     "data": {
      "image/png": "[encoded data removed]",
      "text/plain": [
       "<matplotlib.figure.Figure at 0x1500d263be0>"
      ]
     },
     "metadata": {},
     "output_type": "display_data"
    },
    {
     "name": "stdout",
     "output_type": "stream",
     "text": [
      "   NumCases  NumCorrectPredictions  RunningCompleted  PercentCorrect  AvgCase  \\\n",
      "0       167                    149                 0       61.570248     24.2   \n",
      "1       167                     58               167       85.537190     24.2   \n",
      "2       167                      2               334       86.363636     24.2   \n",
      "3       167                      5               501       88.429752     24.2   \n",
      "4       167                      6               668       90.909091     24.2   \n",
      "5       167                      6               835       93.388430     24.2   \n",
      "6       167                      5              1002       95.454545     24.2   \n",
      "7       166                      2              1169       96.280992     24.2   \n",
      "8       166                      7              1335       99.173554     24.2   \n",
      "9       166                      2              1501      100.000000     24.2   \n",
      "\n",
      "   CumulativeAvgCase  LiftLine      Lift  \n",
      "0               24.2         1  6.157025  \n",
      "1               48.4         1  2.396694  \n",
      "2               72.6         1  0.082645  \n",
      "3               96.8         1  0.206612  \n",
      "4              121.0         1  0.247934  \n",
      "5              145.2         1  0.247934  \n",
      "6              169.4         1  0.206612  \n",
      "7              193.6         1  0.082645  \n",
      "8              217.8         1  0.289256  \n",
      "9              242.0         1  0.082645  \n",
      "ROC curve for the validaton Sample\n"
     ]
    },
    {
     "data": {
      "image/png": "[encoded data removed]",
      "text/plain": [
       "<matplotlib.figure.Figure at 0x1500bcddcf8>"
      ]
     },
     "metadata": {},
     "output_type": "display_data"
    },
    {
     "data": {
      "text/plain": [
       "<matplotlib.figure.Figure at 0x1500bd616d8>"
      ]
     },
     "metadata": {},
     "output_type": "display_data"
    },
    {
     "data": {
      "text/plain": [
       "<matplotlib.figure.Figure at 0x1500bf0aa58>"
      ]
     },
     "metadata": {},
     "output_type": "display_data"
    }
   ],
   "source": [
    "#Calculate key performance metrics for model validation\n",
    "eval_result_GRB = evaluate_model(model_name, trained_model_grb, xtrain, xtest, ytrain, ytest, verbose = False)\n",
    "\n",
    "#Append key performance metrics to comparison dataframe\n",
    "eval_results_compare = eval_results_compare.append(eval_result_GRB)\n",
    "eval_results_compare.reset_index(drop=True,inplace=True)"
   ]
  },
  {
   "cell_type": "code",
   "execution_count": 321,
   "metadata": {
    "scrolled": true
   },
   "outputs": [
    {
     "data": {
      "text/html": [
       "<div>\n",
       "<style scoped>\n",
       "    .dataframe tbody tr th:only-of-type {\n",
       "        vertical-align: middle;\n",
       "    }\n",
       "\n",
       "    .dataframe tbody tr th {\n",
       "        vertical-align: top;\n",
       "    }\n",
       "\n",
       "    .dataframe thead th {\n",
       "        text-align: right;\n",
       "    }\n",
       "</style>\n",
       "<table border=\"1\" class=\"dataframe\">\n",
       "  <thead>\n",
       "    <tr style=\"text-align: right;\">\n",
       "      <th></th>\n",
       "      <th>Model</th>\n",
       "      <th>AUC</th>\n",
       "      <th>Test Accuracy</th>\n",
       "      <th>Train Accuracy</th>\n",
       "      <th>Precision</th>\n",
       "      <th>Recall</th>\n",
       "      <th>F1-score</th>\n",
       "      <th>Log loss value</th>\n",
       "    </tr>\n",
       "  </thead>\n",
       "  <tbody>\n",
       "    <tr>\n",
       "      <th>0</th>\n",
       "      <td>Random Forest</td>\n",
       "      <td>0.889535</td>\n",
       "      <td>0.914217</td>\n",
       "      <td>0.997599</td>\n",
       "      <td>0.915544</td>\n",
       "      <td>0.914217</td>\n",
       "      <td>0.900789</td>\n",
       "      <td>0.613783</td>\n",
       "    </tr>\n",
       "    <tr>\n",
       "      <th>1</th>\n",
       "      <td>Logistic Regression</td>\n",
       "      <td>0.800742</td>\n",
       "      <td>0.858428</td>\n",
       "      <td>0.864946</td>\n",
       "      <td>0.828022</td>\n",
       "      <td>0.858428</td>\n",
       "      <td>0.831302</td>\n",
       "      <td>0.336283</td>\n",
       "    </tr>\n",
       "    <tr>\n",
       "      <th>2</th>\n",
       "      <td>Gaussian Naive Bayes</td>\n",
       "      <td>0.611035</td>\n",
       "      <td>0.490102</td>\n",
       "      <td>0.522809</td>\n",
       "      <td>0.790075</td>\n",
       "      <td>0.490102</td>\n",
       "      <td>0.558100</td>\n",
       "      <td>6.067440</td>\n",
       "    </tr>\n",
       "    <tr>\n",
       "      <th>3</th>\n",
       "      <td>Support Vector Machines</td>\n",
       "      <td>0.371012</td>\n",
       "      <td>0.854829</td>\n",
       "      <td>1.000000</td>\n",
       "      <td>0.730733</td>\n",
       "      <td>0.854829</td>\n",
       "      <td>0.787925</td>\n",
       "      <td>0.414207</td>\n",
       "    </tr>\n",
       "    <tr>\n",
       "      <th>4</th>\n",
       "      <td>Gradient Boosting Classifier</td>\n",
       "      <td>0.911727</td>\n",
       "      <td>0.935213</td>\n",
       "      <td>0.978992</td>\n",
       "      <td>0.932344</td>\n",
       "      <td>0.935213</td>\n",
       "      <td>0.932605</td>\n",
       "      <td>0.192148</td>\n",
       "    </tr>\n",
       "  </tbody>\n",
       "</table>\n",
       "</div>"
      ],
      "text/plain": [
       "                          Model       AUC  Test Accuracy  Train Accuracy  \\\n",
       "0                 Random Forest  0.889535       0.914217        0.997599   \n",
       "1           Logistic Regression  0.800742       0.858428        0.864946   \n",
       "2          Gaussian Naive Bayes  0.611035       0.490102        0.522809   \n",
       "3       Support Vector Machines  0.371012       0.854829        1.000000   \n",
       "4  Gradient Boosting Classifier  0.911727       0.935213        0.978992   \n",
       "\n",
       "   Precision    Recall  F1-score  Log loss value  \n",
       "0   0.915544  0.914217  0.900789        0.613783  \n",
       "1   0.828022  0.858428  0.831302        0.336283  \n",
       "2   0.790075  0.490102  0.558100        6.067440  \n",
       "3   0.730733  0.854829  0.787925        0.414207  \n",
       "4   0.932344  0.935213  0.932605        0.192148  "
      ]
     },
     "execution_count": 321,
     "metadata": {},
     "output_type": "execute_result"
    }
   ],
   "source": [
    "eval_results_compare"
   ]
  },
  {
   "cell_type": "code",
   "execution_count": null,
   "metadata": {},
   "outputs": [],
   "source": []
  },
  {
   "cell_type": "markdown",
   "metadata": {},
   "source": [
    "## Supporting Functions"
   ]
  },
  {
   "cell_type": "code",
   "execution_count": 322,
   "metadata": {},
   "outputs": [],
   "source": [
    "def creating_test_train_without_stratified_samples(df_target,df_id, df_features, seed,\n",
    "                                        ratio_test):\n",
    "    '''\n",
    "        Objective: To split of all three pandas dataset (df_target, df_id, df_features)\n",
    "                   between training and testing datasets\n",
    "                   \n",
    "        Arguments: target dataset,id_dataset, features dataset, seed value, split ratio\n",
    "                 \n",
    "                   \n",
    "        Returns  : 2 split datasets of training and testing each \n",
    "                   for target, id, features\n",
    "\n",
    "\n",
    "    '''\n",
    "    #strt_clm = df_target\n",
    "    xtrain, xtest, ytrain, ytest , id_train, id_test=train_test_split \\\n",
    "                    (df_features, df_target,df_id,test_size=ratio_test, \\\n",
    "                    random_state=seed)\n",
    "    print (\"No. of True Cases in training data set for\" , ytrain.values.ravel().sum())\n",
    "    print (\"No. of True Cases in testing data set for\",ytest.values.ravel().sum())\n",
    "    \n",
    "    print (\"Ratio of True Cases in training data set: \" , round(ytrain.values.ravel().sum()/len(ytrain.values.ravel()),2))\n",
    "    print (\"Ratio of True Cases in testing data set: \", round(ytest.values.ravel().sum()/len(ytest.values.ravel()),2))\n",
    "    return xtrain, xtest, ytrain, ytest , id_train, id_test"
   ]
  },
  {
   "cell_type": "code",
   "execution_count": 323,
   "metadata": {},
   "outputs": [],
   "source": [
    "def creating_test_train_with_stratified_samples(df_target,df_id, df_features, seed,\n",
    "                                        ratio_test):\n",
    "    '''\n",
    "        Objective: To split of all three pandas dataset (df_target, df_id, df_features)\n",
    "                   between training and testing datasets\n",
    "                   \n",
    "        Arguments: target dataset,id_dataset, features dataset, seed value, split ratio\n",
    "                 \n",
    "                   \n",
    "        Returns  : 2 split datasets of training and testing each \n",
    "                   for target, id, features\n",
    "\n",
    "\n",
    "    '''\n",
    "    strt_clm = df_target\n",
    "    xtrain, xtest, ytrain, ytest , id_train, id_test=train_test_split \\\n",
    "                    (df_features, df_target,df_id,test_size=ratio_test, \\\n",
    "                    stratify=strt_clm,random_state=seed)\n",
    "    print (\"No. of True Cases in training data set for\" , ytrain.values.ravel().sum())\n",
    "    print (\"No. of True Cases in testing data set for\",ytest.values.ravel().sum())\n",
    "    \n",
    "    print (\"Ratio of True Cases in training data set: \" , round(ytrain.values.ravel().sum()/len(ytrain.values.ravel()),2))\n",
    "    print (\"Ratio of True Cases in testing data set: \", round(ytest.values.ravel().sum()/len(ytest.values.ravel()),2))\n",
    "    return xtrain, xtest, ytrain, ytest , id_train, id_test"
   ]
  },
  {
   "cell_type": "code",
   "execution_count": 324,
   "metadata": {},
   "outputs": [],
   "source": [
    "def print_model_stats(model_object, xtrain, ytrain, xtest, ytest):\n",
    "    '''\n",
    "        Objective: To print required model statistics \n",
    "        Arguments: 6 arguments\n",
    "                    1) Model Object\n",
    "                    2) training dataset for features\n",
    "                    3) training dataset for target\n",
    "                    4) testing dataset for features\n",
    "                    5) testing dataset for target\n",
    "                    6) name of the target variable\n",
    "           \n",
    "        Output   : All key model statistics like AUC, Lift chart etc.\n",
    "\n",
    "    '''\n",
    "    prob_y2 = model_object.predict_proba(xtest)\n",
    "    prob_y1 = model_object.predict_proba(xtrain)\n",
    "\n",
    "    \"\"\" Feat_importance=feature_importance_gs(model_object,xtrain)\n",
    "    print (\"List of Top Significant features\", \\\n",
    "                                feature_importance_gs(model_object,xtrain))\n",
    "    \"\"\"\n",
    "    print (\"--------------------------------------------------------------------\")\n",
    "\n",
    "    print( \"Model Statistics on validation dataset\")\n",
    "\n",
    "    print (\"Log Loss Without for validation sample:\", \\\n",
    "                    log_loss(ytest, prob_y2[:,1],eps=1e-15, normalize=True))\n",
    "\n",
    "    print (\"Model ROC-AUC score for validation sample: %.3f\" \\\n",
    "                                      % roc_auc_score(ytest, prob_y2[:,1]))\n",
    "  \n",
    "    print (\"Lift plot for validation Sample\")\n",
    "    lift_plot_model(ytest.values.ravel(), prob_y2[:,1])\n",
    "    plt.gcf().clear()\n",
    "    \n",
    "    print (\"ROC curve for the validaton Sample\")\n",
    "    plot_roc(ytest.values.ravel(), prob_y2[:,1])\n",
    "    plt.gcf().clear()"
   ]
  },
  {
   "cell_type": "code",
   "execution_count": 325,
   "metadata": {},
   "outputs": [],
   "source": [
    "\n",
    "def lift_plot_model(ytest, yprob):\n",
    "    '''\n",
    "    Objective: Function to plot Lift Chart\n",
    "    Argument : Actual Take up rate(1/0), predcicted probabilities\n",
    "    Returns  : Lift chart\n",
    "    Output   : Lift Chart\n",
    "\n",
    "    '''\n",
    "\n",
    "    n_bins = 10\n",
    "\n",
    "    actual_ser = pd.Series(ytest).rename('actuals').reset_index()\n",
    "    proba_ser = pd.Series(yprob).rename('probabilities').reset_index()\n",
    "\n",
    "    # Join table and drop indicies\n",
    "    lift_table = pd.concat([actual_ser, proba_ser], axis=1).fillna(0)\n",
    "    #lift_table.drop('index', inplace=True)\n",
    "    actual_col = 'actuals'\n",
    "\n",
    "    probability_col = 'probabilities'\n",
    "    \n",
    "    lift_table.sort_values(by=probability_col, ascending=False, inplace=True)\n",
    "\n",
    "    rows = []\n",
    "\n",
    "    # Split the data into the number of bins desired.\n",
    "    for group in np.array_split(lift_table, n_bins):\n",
    "        score = group[(group[actual_col] == 1)][actual_col].sum()\n",
    "\n",
    "        rows.append({'NumCases': len(group), 'NumCorrectPredictions': score})\n",
    "\n",
    "    lift = pd.DataFrame(rows)\n",
    "\n",
    "    #Cumulative Gains Calculation\n",
    "    lift['RunningCompleted'] = lift['NumCases'].cumsum() - lift['NumCases']\n",
    "\n",
    "    lift['PercentCorrect'] = lift['NumCorrectPredictions'].cumsum() / \\\n",
    "    lift['NumCorrectPredictions'].sum() * 100\n",
    "\n",
    "    lift['AvgCase'] = lift['NumCorrectPredictions'].sum() / len(lift)\n",
    "    lift['CumulativeAvgCase'] = lift['AvgCase'].cumsum()\n",
    "    #lift['PercentAvgCase'] = lift['CumulativeAvgCase'].apply(\n",
    "    #    lambda x: (x*1.0 / lift['NumCorrectPredictions'].sum()) * 100)\n",
    "\n",
    "    #Lift Chart\n",
    "    lift['LiftLine'] = 1\n",
    "    lift['Lift'] = lift['NumCorrectPredictions'] / lift['AvgCase']\n",
    "\n",
    "    plt.plot(lift['Lift'], label= 'Response rate for model')\n",
    "\n",
    "    plt.plot(lift['LiftLine'], 'r-', label='Normalised \\'response rate\\' \\\n",
    "    with no model')\n",
    "\n",
    "    plt.xlabel(str(100/len(lift)) + '% Increments')\n",
    "    plt.ylabel('Lift')\n",
    "    plt.legend()\n",
    "    plt.title(\"Lift Chart\")\n",
    "\n",
    "    return plt.show(), lift\n",
    "    #plt.gcf().clear()\n",
    "\n"
   ]
  },
  {
   "cell_type": "code",
   "execution_count": 326,
   "metadata": {},
   "outputs": [],
   "source": [
    "\n",
    "def plot_roc(ytest,yprob):\n",
    "        '''\n",
    "        Objective: Function to plot ROC Graph\n",
    "        Argument : ytest: Actual Take up rate(1/0), yprob: predcicted probabilities\n",
    "        Returns  : ROC Plot\n",
    "        Output   : ROC Plot\n",
    "\n",
    "        '''\n",
    "        fig = plt.figure(1, figsize=(6, 6))\n",
    "\n",
    "        false_positive_rate, true_positive_rate, thresholds = \\\n",
    "        roc_curve(ytest, yprob)\n",
    "\n",
    "        roc_auc = auc(false_positive_rate, true_positive_rate)\n",
    "\n",
    "        plt.title(\"Receiving Operator Characteristic\")\n",
    "\n",
    "        plt.plot(false_positive_rate, true_positive_rate, 'b', \\\n",
    "        label='AUC = %0.2f' % roc_auc)\n",
    "\n",
    "        plt.legend(loc='lower right')\n",
    "        plt.plot([0,1], [0,1], 'r--')\n",
    "        plt.xlim([-0.1, 1.2])\n",
    "        plt.ylim([-0.1, 1.2])\n",
    "        plt.ylabel(\"True Positive Rate\")\n",
    "        plt.xlabel(\"False Positive Rate\")\n",
    "        plt.tight_layout()\n",
    "\n",
    "        nfig = plt.figure(2, figsize=(6, 6))\n",
    "        return plt.show()\n",
    "        #plt.gcf().clear()\n",
    "\n"
   ]
  },
  {
   "cell_type": "code",
   "execution_count": 396,
   "metadata": {},
   "outputs": [],
   "source": [
    "def evaluate_model(model_name, trained_model, xtrain, xtest, ytrain, ytest, verbose = False):\n",
    "    '''\n",
    "        Objective: Function to calculate and return key model performance metrics\n",
    "        Arguments: 7 arguments\n",
    "                    1) model_name: Name of the model\n",
    "                    2) trained_model: Trained model\n",
    "                    3) xtrain: Training data set for features\n",
    "                    4) xtest: testing dataset for features\n",
    "                    3) ytrain: Training data set for target\n",
    "                    4) ytest: testing dataset for target\n",
    "                    6) verbose: print key performance metrics if True (default False)\n",
    "        Returns  : ROC Plot\n",
    "        Output   : ROC Plot\n",
    "\n",
    "    '''\n",
    "    #Predict using trained model for training and test datasets (with and without probabilities) \n",
    "    prob_test = trained_model.predict_proba(xtest)\n",
    "    prob_train = trained_model.predict_proba(xtrain)\n",
    "    pred_test = trained_model.predict(xtest)\n",
    "    pred_train = trained_model.predict(xtrain)\n",
    "    \n",
    "    #Calculate AUC\n",
    "    auc_score = roc_auc_score(ytest, prob_test[:,1])\n",
    "    \n",
    "    #Calculate train and test accuracy\n",
    "    train_acc = accuracy_score(ytrain.values.ravel(), pred_train)\n",
    "    test_acc = accuracy_score(ytest.values.ravel(), pred_test)\n",
    "   \n",
    "    #Calculate log loss value\n",
    "    log_loss_value = log_loss(ytest, prob_test[:,1],eps=1e-15, normalize=True)\n",
    "    \n",
    "    #Generate confusion matrix\n",
    "    conf_matrix = confusion_matrix(ytest.values.ravel(), pred_test)\n",
    "    \n",
    "    #Calculate classification model evaluation metrics like precision, recall, f1 score\n",
    "    report = classification_report(ytest, pred_test)\n",
    "    precision,recall,fscore,support=score(ytest,pred_test,average='weighted')\n",
    "    \n",
    "    \n",
    "    print (\"Lift plot for validation Sample\")\n",
    "    plot, lift_table = lift_plot_model(ytest.values.ravel(), prob_test[:,1])\n",
    "    plt.gcf().clear()\n",
    "\n",
    "    print (\"ROC curve for the validaton Sample\")\n",
    "    plot_roc(ytest.values.ravel(), prob_test[:,1])\n",
    "    plt.gcf().clear()\n",
    "    \n",
    "    #Collate all key performance metrics into a dataframe\n",
    "    model_evaluation_metrics = pd.DataFrame({'Model': [model_name], 'AUC': [auc_score], 'Train Accuracy': [train_acc], 'Test Accuracy': [test_acc]\n",
    "                  , 'Recall': [recall], 'Precision': [precision], 'F1-score': [fscore], 'Log loss value': [log_loss_value]})\n",
    "    model_evaluation_metrics.columns\n",
    "    model_evaluation_metrics = model_evaluation_metrics[['Model', 'AUC', 'Test Accuracy', 'Train Accuracy',\n",
    "                                                         'Precision', 'Recall', 'F1-score', 'Log loss value']]\n",
    "    \n",
    "    #Get lifts in top n deciles, where n is defined below\n",
    "    n=3\n",
    "    lift_table.reset_index(inplace = True)\n",
    "    lift_table['index'] = lift_table['index'] + 1\n",
    "    lift_table['Decile'] = lift_table['index'].apply(lambda x: 'Decile_' + str(x) + ' Lift')\n",
    "    top_decile_lifts = lift_table[0:n][['Decile','Lift']].T\n",
    "    top_decile_lifts.columns = top_decile_lifts.iloc[0]\n",
    "    top_decile_lifts = top_decile_lifts.reindex(top_decile_lifts.index.drop('Decile'))\n",
    "    top_decile_lifts.reset_index(drop=True,inplace=True)\n",
    "    \n",
    "    #Add lift values for top deciles to the model key performance metrics\n",
    "    model_evaluation_metrics = pd.concat([model_evaluation_metrics,top_decile_lifts],axis=1)\n",
    "    \n",
    "    #Print key performance metrics if verbose = True is passed as an argument\n",
    "    if verbose == True:\n",
    "        print (\"Trained model :: \", trained_model)\n",
    "        print (\"\\n\\nModel ROC-AUC score for validation sample: %.3f\" \\\n",
    "                                          % auc_score)\n",
    "        print (\"\\n\\nTrain Accuracy :: \", train_acc)\n",
    "        print (\"\\n\\nTest Accuracy :: \", test_acc)\n",
    "        print (\"\\n\\nLog Loss Without for validation sample:\", \\\n",
    "                        log_loss_value)\n",
    "        print (\"\\n\\n Confusion matrix \\n\", conf_matrix)\n",
    "        print(\"\\n\\n Classification report (weighted average across classes) ::\\n\", classification_report(ytest, pred_test))\n",
    "\n",
    "    return model_evaluation_metrics"
   ]
  },
  {
   "cell_type": "code",
   "execution_count": null,
   "metadata": {},
   "outputs": [],
   "source": []
  }
 ],
 "metadata": {
  "kernelspec": {
   "display_name": "Python 3",
   "language": "python",
   "name": "python3"
  },
  "language_info": {
   "codemirror_mode": {
    "name": "ipython",
    "version": 3
   },
   "file_extension": ".py",
   "mimetype": "text/x-python",
   "name": "python",
   "nbconvert_exporter": "python",
   "pygments_lexer": "ipython3",
   "version": "3.6.4"
  }
 },
 "nbformat": 4,
 "nbformat_minor": 2
}
